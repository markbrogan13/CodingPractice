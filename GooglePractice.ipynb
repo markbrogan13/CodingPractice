{
 "cells": [
  {
   "cell_type": "markdown",
   "metadata": {},
   "source": [
    "# Google Practice Coding Challenges\n",
    "## Provided by Will Sparks via [GitHub](https://github.com/gracenolan/Notes/blob/master/interview-study-notes-for-security-engineering.md)\n",
    "**Mark Brogan**\n",
    "\n",
    "### *1. Basic Ciphers and Encrytion*\n",
    "\n",
    "Problem approach: Taking what I learned in college, most ciphertext and encryptions require public and private keys, or certificates to prove validity"
   ]
  },
  {
   "cell_type": "code",
   "execution_count": 39,
   "metadata": {},
   "outputs": [
    {
     "name": "stdout",
     "output_type": "stream",
     "text": [
      "2 122 1 212 1 212 2 21 212 122 21 1121 22 1221 21 222 1 2221 1 12 222 1222 12 211 212 1 21 11 21 2221 2 122 12 1121 1121 1 1 121 1 1212 122 12 211 1121 1 2211 1121 22 2211  \n",
      " THISISTOSHOWAMODIFIEDVERSIONOFTHEWWIICIPHERWIGWAG\n"
     ]
    }
   ],
   "source": [
    "import numpy as np\n",
    "\n",
    "data = np.loadtxt(\"code.csv\", delimiter=\",\", dtype=str)\n",
    "key_pairs = {}\n",
    "\n",
    "for arr in data:\n",
    "    dict = {arr[0]:int(arr[1])}\n",
    "    key_pairs.update(dict)\n",
    "\n",
    "def create_cipher(plaintext):\n",
    "    plaintext = plaintext.upper()\n",
    "    split_txt = plaintext.split()\n",
    "    cipher_txt = \"\"\n",
    "\n",
    "    for word in split_txt:\n",
    "        for letter in word:\n",
    "            cipher_txt += str(key_pairs.get(letter)) + \" \"\n",
    "    return cipher_txt\n",
    "\n",
    "def decrypt(ciphertext):\n",
    "    cipher_txt = ciphertext.split()\n",
    "    plain_txt = \"\"\n",
    "    for letter in cipher_txt:\n",
    "        plain_txt += str(get_key(letter))\n",
    "    return(plain_txt)\n",
    "        \n",
    "def get_key(val):\n",
    "    for key, value in key_pairs.items():\n",
    "        if int(val) == value:\n",
    "            return key\n",
    "\n",
    "cipher = create_cipher(\"This is to show a modified version of the WWII Cipher Wig Wag\")\n",
    "message = decrypt(cipher)\n",
    "print(cipher, \"\\n\", message)"
   ]
  },
  {
   "cell_type": "markdown",
   "metadata": {},
   "source": [
    "### *2. Parsing Arbitrary Logs*\n",
    "\n",
    "Problem Approach: Taking some crash reports from a Modded Minecraft Server, locate the reason and location of the crash"
   ]
  },
  {
   "cell_type": "code",
   "execution_count": 56,
   "metadata": {},
   "outputs": [],
   "source": [
    "import pandas as pd\n",
    "import os\n",
    "\n",
    "def crash_parser(fileobj):\n",
    "    with open('report.txt', 'a') as write_to:\n",
    "        with open(fileobj) as file:\n",
    "            for line in file:\n",
    "                if 'A detailed walkthrough of the error' in line:\n",
    "                    return\n",
    "                elif line.strip():\n",
    "                    write_to.write(line + '\\n')\n",
    "\n",
    "files_in_path = os.scandir('crash-reports')\n",
    "for obj in files_in_path:\n",
    "    crash_parser(obj)\n"
   ]
  },
  {
   "cell_type": "markdown",
   "metadata": {},
   "source": [
    "### *3. Web Scraping*\n",
    "\n",
    "Problem Approach: Passing in a website in the form a URL and grab some data\n",
    "\n",
    "Data to obtain: title, encoding, all meta data, and listing script's sources\n",
    "\n",
    "With the simplicity of Python's parsing and scraping, you can find data very easily and it doesnt take long to spot odd things out basted on patterns of websites that attempt to steal user data\n",
    "\n",
    "You can make this a \"Tree\" search of poorly behaving scripts. While printing all this data may be useless, an additional parser could prove to be effective in finding the data of these scripts\n",
    "\n",
    "#### Retrospect\n",
    "\n",
    "I could also use a dev tool called Selenium to automatically go through websites and obtain other data, like CSS and also mimic human behavior"
   ]
  },
  {
   "cell_type": "code",
   "execution_count": 66,
   "metadata": {},
   "outputs": [
    {
     "name": "stdout",
     "output_type": "stream",
     "text": [
      "<title>Twitch</title> None\n",
      "<meta charset=\"utf-8\"/>\n",
      "<meta content=\"twitch.tv/ludwig\" property=\"al:ios:url\"><meta content=\"x\" property=\"og:description\"/><meta content=\"summary\" name=\"twitter:card\"/><meta content=\"161273083968709\" property=\"fb:app_id\"/><meta content=\"https://player.twitch.tv/?channel=ludwig&amp;player=facebook&amp;autoplay=true&amp;parent=meta.tag\" property=\"og:video:secure_url\"/><meta content=\"id460177396\" property=\"al:ios:app_store_id\"/><meta content=\"twitch.tv/ludwig\" name=\"twitter:app:url:ipad\"/><meta content=\"x\" name=\"description\"/><meta content=\"ludwig - Twitch\" property=\"og:title\"/><meta content=\"ludwig - Twitch\" name=\"twitter:title\"/><meta content=\"https://static-cdn.jtvnw.net/jtv_user_pictures/bde8aaf5-35d4-4503-9797-842401da900f-profile_image-300x300.png\" name=\"twitter:image\"/><meta content=\"@twitch\" name=\"twitter:site\"/><meta content=\"378\" property=\"og:video:height\"/><meta content=\"Twitch\" name=\"twitter:app:name:googleplay\"/><meta content=\"Twitch\" name=\"twitter:app:name:iphone\"/><meta content=\"id460177396\" name=\"twitter:app:id:ipad\"/><meta content=\"Twitch\" property=\"og:site_name\"/><meta content=\"Twitch\" property=\"al:ios:app_name\"/><link href=\"https://www.twitch.tv/ludwig\" rel=\"canonical\"/><meta content=\"ludwig - Twitch\" name=\"title\"/><meta content=\"tv.twitch.android.app\" name=\"twitter:app:id:googleplay\"/><meta content=\"twitch.tv/ludwig\" name=\"twitter:app:url:googleplay\"/><meta content=\"https://www.twitch.tv/ludwig\" property=\"og:url\"/><meta content=\"Twitch\" name=\"twitter:app:name:ipad\"/><meta content=\"620\" property=\"og:video:width\"/><link href=\"https://m.twitch.tv/ludwig\" media=\"only screen and(max-width: 640px)\" rel=\"alternate\"/><meta content=\"index\" name=\"robots\"/><meta content=\"video.other\" property=\"og:type\"/><meta content=\"https://static-cdn.jtvnw.net/jtv_user_pictures/bde8aaf5-35d4-4503-9797-842401da900f-profile_image-300x300.png\" property=\"og:image\"/><meta content=\"x\" name=\"twitter:description\"/><meta content=\"https://player.twitch.tv/?channel=ludwig&amp;player=facebook&amp;autoplay=true&amp;parent=meta.tag\" property=\"og:video\"/><meta content=\"text/html\" property=\"og:video:type\"/><meta content=\"Twitch\" property=\"al:android:app_name\"/><meta content=\"tv.twitch.android.app\" property=\"al:android:package\"/><meta content=\"id460177396\" name=\"twitter:app:id:iphone\"/><meta content=\"twitch.tv/ludwig\" name=\"twitter:app:url:iphone\"/><link href=\"https://www.twitch.tv/ludwig?lang=bg\" hreflang=\"bg\" rel=\"alternate\"/><link href=\"https://www.twitch.tv/ludwig?lang=cs\" hreflang=\"cs\" rel=\"alternate\"/><link href=\"https://www.twitch.tv/ludwig?lang=da\" hreflang=\"da\" rel=\"alternate\"/><link href=\"https://www.twitch.tv/ludwig?lang=de\" hreflang=\"de\" rel=\"alternate\"/><link href=\"https://www.twitch.tv/ludwig?lang=el\" hreflang=\"el\" rel=\"alternate\"/><link href=\"https://www.twitch.tv/ludwig?lang=es\" hreflang=\"es\" rel=\"alternate\"/><link href=\"https://www.twitch.tv/ludwig?lang=es-mx\" hreflang=\"es-mx\" rel=\"alternate\"/><link href=\"https://www.twitch.tv/ludwig?lang=fi\" hreflang=\"fi\" rel=\"alternate\"/><link href=\"https://www.twitch.tv/ludwig?lang=fr\" hreflang=\"fr\" rel=\"alternate\"/><link href=\"https://www.twitch.tv/ludwig?lang=hu\" hreflang=\"hu\" rel=\"alternate\"/><link href=\"https://www.twitch.tv/ludwig?lang=it\" hreflang=\"it\" rel=\"alternate\"/><link href=\"https://www.twitch.tv/ludwig?lang=ja\" hreflang=\"ja\" rel=\"alternate\"/><link href=\"https://www.twitch.tv/ludwig?lang=ko\" hreflang=\"ko\" rel=\"alternate\"/><link href=\"https://www.twitch.tv/ludwig?lang=nl\" hreflang=\"nl\" rel=\"alternate\"/><link href=\"https://www.twitch.tv/ludwig?lang=no\" hreflang=\"no\" rel=\"alternate\"/><link href=\"https://www.twitch.tv/ludwig?lang=pl\" hreflang=\"pl\" rel=\"alternate\"/><link href=\"https://www.twitch.tv/ludwig?lang=pt\" hreflang=\"pt\" rel=\"alternate\"/><link href=\"https://www.twitch.tv/ludwig?lang=pt-br\" hreflang=\"pt-br\" rel=\"alternate\"/><link href=\"https://www.twitch.tv/ludwig?lang=ro\" hreflang=\"ro\" rel=\"alternate\"/><link href=\"https://www.twitch.tv/ludwig?lang=ru\" hreflang=\"ru\" rel=\"alternate\"/><link href=\"https://www.twitch.tv/ludwig?lang=sk\" hreflang=\"sk\" rel=\"alternate\"/><link href=\"https://www.twitch.tv/ludwig?lang=sv\" hreflang=\"sv\" rel=\"alternate\"/><link href=\"https://www.twitch.tv/ludwig?lang=th\" hreflang=\"th\" rel=\"alternate\"/><link href=\"https://www.twitch.tv/ludwig?lang=tr\" hreflang=\"tr\" rel=\"alternate\"/><link href=\"https://www.twitch.tv/ludwig?lang=vi\" hreflang=\"vi\" rel=\"alternate\"/><link href=\"https://www.twitch.tv/ludwig?lang=zh-cn\" hreflang=\"zh-cn\" rel=\"alternate\"/><link href=\"https://www.twitch.tv/ludwig?lang=zh-tw\" hreflang=\"zh-tw\" rel=\"alternate\"/><link href=\"https://www.twitch.tv/ludwig\" hreflang=\"x-default\" rel=\"alternate\"/><link href=\"https://static.twitchcdn.net/assets/favicon-32-e29e246c157142c94346.png\" rel=\"icon\" sizes=\"32x32\" type=\"image/png\"/><link href=\"https://static.twitchcdn.net/assets/favicon-16-52e571ffea063af7a7f4.png\" rel=\"icon\" sizes=\"16x16\" type=\"image/png\"/><link href=\"https://api.twitch.tv/\" rel=\"dns-prefetch\"/><link href=\"https://passport.twitch.tv/\" rel=\"dns-prefetch\"/><link href=\"https://static-cdn.jtvnw.net/\" rel=\"dns-prefetch\"/><link href=\"https://api.twitch.tv/\" rel=\"preconnect\"/><link href=\"https://static-cdn.jtvnw.net/\" rel=\"preconnect\"/><script>!function(){var e,t,n,i,r={passive:!0,capture:!0},a=new Date,o=function(){i=[],t=-1,e=null,f(addEventListener)},c=function(i,r){e||(e=r,t=i,n=new Date,f(removeEventListener),u())},u=function(){if(t>=0&&t<n-a){var r={entryType:\"first-input\",name:e.type,target:e.target,cancelable:e.cancelable,startTime:e.timeStamp,processingStart:e.timeStamp+t};i.forEach((function(e){e(r)})),i=[]}},s=function(e){if(e.cancelable){var t=(e.timeStamp>1e12?new Date:performance.now())-e.timeStamp;\"pointerdown\"==e.type?function(e,t){var n=function(){c(e,t),a()},i=function(){a()},a=function(){removeEventListener(\"pointerup\",n,r),removeEventListener(\"pointercancel\",i,r)};addEventListener(\"pointerup\",n,r),addEventListener(\"pointercancel\",i,r)}(t,e):c(t,e)}},f=function(e){[\"mousedown\",\"keydown\",\"touchstart\",\"pointerdown\"].forEach((function(t){return e(t,s,r)}))},p=\"hidden\"===document.visibilityState?0:1/0;addEventListener(\"visibilitychange\",(function e(t){\"hidden\"===document.visibilityState&&(p=t.timeStamp,removeEventListener(\"visibilitychange\",e,!0))}),!0),o(),self.webVitals={firstInputPolyfill:function(e){i.push(e),u()},resetFirstInputPolyfill:o,get firstHiddenTime(){return p}}}()</script><!-- WebTransport for https://www.twitch.tv --><meta content=\"Al4GgLnwUTx/Mj0WaK4mK57NRcL9E17I2UF7y650onwBWtPuXM4hlUhhoB/P3cc2WCrHFsARHeRUw5adb9KfCQ4AAABieyJvcmlnaW4iOiJodHRwczovL3R3aXRjaC50djo0NDMiLCJmZWF0dXJlIjoiV2ViVHJhbnNwb3J0IiwiZXhwaXJ5IjoxNjQzNzU5OTk5LCJpc1N1YmRvbWFpbiI6dHJ1ZX0=\" http-equiv=\"origin-trial\"/><!-- MSE in Workers for https://twitch.tv --><meta content=\"Ag8gjMC7YpL/OUcwEHEkvOQaTSL//OWmEo9qcm/0rXZjbHCcN4YmRh7aBjNBOmmLwO3JqWrSUL6Qg1+eTmmXxAQAAABqeyJvcmlnaW4iOiJodHRwczovL3R3aXRjaC50djo0NDMiLCJmZWF0dXJlIjoiTWVkaWFTb3VyY2VJbldvcmtlcnMiLCJleHBpcnkiOjE2NDc5OTM1OTksImlzU3ViZG9tYWluIjp0cnVlfQ==\" http-equiv=\"origin-trial\"/><link href=\"https://gql.twitch.tv/\" rel=\"dns-prefetch\"/><link href=\"https://cvp.twitch.tv/\" rel=\"dns-prefetch\"/><link href=\"https://irc-ws.chat.twitch.tv/\" rel=\"dns-prefetch\"/><link href=\"https://pubsub-edge.twitch.tv/\" rel=\"dns-prefetch\"/><link href=\"https://static.twitchcdn.net/\" rel=\"dns-prefetch\"/><link href=\"https://gql.twitch.tv/\" rel=\"preconnect\"/><link href=\"https://static.twitchcdn.net/\" rel=\"preconnect\"/><link href=\"https://cvp.twitch.tv/\" rel=\"preconnect\"/><link href=\"/opensearch.xml\" rel=\"search\" type=\"application/opensearchdescription+xml\"/></meta>\n",
      "<meta content=\"x\" property=\"og:description\"/>\n",
      "<meta content=\"summary\" name=\"twitter:card\"/>\n",
      "<meta content=\"161273083968709\" property=\"fb:app_id\"/>\n",
      "<meta content=\"https://player.twitch.tv/?channel=ludwig&amp;player=facebook&amp;autoplay=true&amp;parent=meta.tag\" property=\"og:video:secure_url\"/>\n",
      "<meta content=\"id460177396\" property=\"al:ios:app_store_id\"/>\n",
      "<meta content=\"twitch.tv/ludwig\" name=\"twitter:app:url:ipad\"/>\n",
      "<meta content=\"x\" name=\"description\"/>\n",
      "<meta content=\"ludwig - Twitch\" property=\"og:title\"/>\n",
      "<meta content=\"ludwig - Twitch\" name=\"twitter:title\"/>\n",
      "<meta content=\"https://static-cdn.jtvnw.net/jtv_user_pictures/bde8aaf5-35d4-4503-9797-842401da900f-profile_image-300x300.png\" name=\"twitter:image\"/>\n",
      "<meta content=\"@twitch\" name=\"twitter:site\"/>\n",
      "<meta content=\"378\" property=\"og:video:height\"/>\n",
      "<meta content=\"Twitch\" name=\"twitter:app:name:googleplay\"/>\n",
      "<meta content=\"Twitch\" name=\"twitter:app:name:iphone\"/>\n",
      "<meta content=\"id460177396\" name=\"twitter:app:id:ipad\"/>\n",
      "<meta content=\"Twitch\" property=\"og:site_name\"/>\n",
      "<meta content=\"Twitch\" property=\"al:ios:app_name\"/>\n",
      "<meta content=\"ludwig - Twitch\" name=\"title\"/>\n",
      "<meta content=\"tv.twitch.android.app\" name=\"twitter:app:id:googleplay\"/>\n",
      "<meta content=\"twitch.tv/ludwig\" name=\"twitter:app:url:googleplay\"/>\n",
      "<meta content=\"https://www.twitch.tv/ludwig\" property=\"og:url\"/>\n",
      "<meta content=\"Twitch\" name=\"twitter:app:name:ipad\"/>\n",
      "<meta content=\"620\" property=\"og:video:width\"/>\n",
      "<meta content=\"index\" name=\"robots\"/>\n",
      "<meta content=\"video.other\" property=\"og:type\"/>\n",
      "<meta content=\"https://static-cdn.jtvnw.net/jtv_user_pictures/bde8aaf5-35d4-4503-9797-842401da900f-profile_image-300x300.png\" property=\"og:image\"/>\n",
      "<meta content=\"x\" name=\"twitter:description\"/>\n",
      "<meta content=\"https://player.twitch.tv/?channel=ludwig&amp;player=facebook&amp;autoplay=true&amp;parent=meta.tag\" property=\"og:video\"/>\n",
      "<meta content=\"text/html\" property=\"og:video:type\"/>\n",
      "<meta content=\"Twitch\" property=\"al:android:app_name\"/>\n",
      "<meta content=\"tv.twitch.android.app\" property=\"al:android:package\"/>\n",
      "<meta content=\"id460177396\" name=\"twitter:app:id:iphone\"/>\n",
      "<meta content=\"twitch.tv/ludwig\" name=\"twitter:app:url:iphone\"/>\n",
      "<meta content=\"Al4GgLnwUTx/Mj0WaK4mK57NRcL9E17I2UF7y650onwBWtPuXM4hlUhhoB/P3cc2WCrHFsARHeRUw5adb9KfCQ4AAABieyJvcmlnaW4iOiJodHRwczovL3R3aXRjaC50djo0NDMiLCJmZWF0dXJlIjoiV2ViVHJhbnNwb3J0IiwiZXhwaXJ5IjoxNjQzNzU5OTk5LCJpc1N1YmRvbWFpbiI6dHJ1ZX0=\" http-equiv=\"origin-trial\"/>\n",
      "<meta content=\"Ag8gjMC7YpL/OUcwEHEkvOQaTSL//OWmEo9qcm/0rXZjbHCcN4YmRh7aBjNBOmmLwO3JqWrSUL6Qg1+eTmmXxAQAAABqeyJvcmlnaW4iOiJodHRwczovL3R3aXRjaC50djo0NDMiLCJmZWF0dXJlIjoiTWVkaWFTb3VyY2VJbldvcmtlcnMiLCJleHBpcnkiOjE2NDc5OTM1OTksImlzU3ViZG9tYWluIjp0cnVlfQ==\" http-equiv=\"origin-trial\"/>\n"
     ]
    }
   ],
   "source": [
    "import requests\n",
    "from bs4 import BeautifulSoup as bs\n",
    "\n",
    "URL = \"https://twitch.tv/ludwig\"\n",
    "res = requests.get(URL)\n",
    "\n",
    "soup = bs(res.text, 'html.parser')\n",
    "title = soup.title\n",
    "encoding = soup.declared_html_encoding\n",
    "metadata = soup.findAll('meta')\n",
    "scripts = soup.findAll('script')\n",
    "\n",
    "print(title, encoding)\n",
    "for x in metadata:\n",
    "    print(x)\n"
   ]
  },
  {
   "cell_type": "markdown",
   "metadata": {},
   "source": [
    "### *4. Port Scanner*\n",
    "\n",
    "Problem Approach: Use Python Sockets to grab open ports from a given IP address\n",
    "\n",
    "This code is unfortunately incredibly slow and could be optimized for different devices and services that are running on a server. ie. taking the "
   ]
  },
  {
   "cell_type": "code",
   "execution_count": 12,
   "metadata": {},
   "outputs": [
    {
     "name": "stdout",
     "output_type": "stream",
     "text": [
      "------------------------------------------------------------\n",
      "Scanning 98.37.133.162 for open ports.\n",
      "Start Time: 2021-11-10 18:57:49.089198\n",
      "------------------------------------------------------------\n",
      "End Time: 2021-11-10 18:58:52.194266\n",
      "Time Total: 0:01:03.105068\n"
     ]
    }
   ],
   "source": [
    "import socket\n",
    "import sys\n",
    "from datetime import datetime\n",
    "\n",
    "remote_ip = \"server.brogan.gg\"\n",
    "remote_ip = socket.gethostbyname(remote_ip)\n",
    "time_start = datetime.now()\n",
    "\n",
    "print(\"-\" * 60)\n",
    "print(\"Scanning {} for open ports.\".format(remote_ip))\n",
    "print(\"Start Time: {}\".format(time_start))\n",
    "print(\"-\" * 60)\n",
    "\n",
    "try:\n",
    "    for port in range(22,25):\n",
    "        sock = socket.socket(socket.AF_INET, socket.SOCK_STREAM)\n",
    "        result = sock.connect_ex((remote_ip, port))\n",
    "        if result == 0:\n",
    "            print(\"Port {}:           Open\".format(port))\n",
    "        sock.close()\n",
    "except KeyboardInterrupt:\n",
    "    print(\"Ctrl+C, Exited\")\n",
    "    sys.exit()\n",
    "\n",
    "except socket.error:\n",
    "    print(\"Unable to connect\")\n",
    "    sys.exit()\n",
    "\n",
    "time_end = datetime.now()\n",
    "print(\"End Time: {}\".format(time_end))\n",
    "print(\"Time Total: {}\".format(time_end - time_start))\n"
   ]
  },
  {
   "cell_type": "markdown",
   "metadata": {},
   "source": [
    "### *5. Botnets, building an ssh botnet*\n",
    "\n",
    "Using info and tutorial from [Building a Botnet](https://sa-lab-01.cyberwarrior.com/Module_2/Building_a_SSH_Botnet_with_Python/)\n",
    "\n",
    "Tested using Kali Linux VM (unable to use on Windows)"
   ]
  },
  {
   "cell_type": "code",
   "execution_count": null,
   "metadata": {},
   "outputs": [],
   "source": [
    "from pexpect import pxssh\n",
    "\n",
    "class Botnet:\n",
    "    def __init__(self, host, user, password):\n",
    "        self.host = host\n",
    "        self.user = user\n",
    "        self.password = password\n",
    "        self.session = self.ssh()\n",
    "    \n",
    "    def ssh(self):\n",
    "        try:\n",
    "            bot = pxssh.pxssh()\n",
    "            bot.login(self.host, self.user, self.password)\n",
    "            return bot\n",
    "        except Exception as e:\n",
    "            print('Connection Failed')\n",
    "            print(e)\n",
    "\n",
    "    def send_command(self, cmd):\n",
    "        self.session.sendline(cmd)\n",
    "        self.session.prompt()\n",
    "        return self.session.before\n",
    "    \n",
    "def command_bots(command):\n",
    "    for bot in botnet:\n",
    "        attack = bot.send_command(command)\n",
    "        print('Output from ' + bot.host)\n",
    "        print(attack)\n",
    "\n",
    "botnet = []\n",
    "\n",
    "def add_bot(host, user, password):\n",
    "    new_bot = Bot(host, user, password)\n",
    "    botnet.append(new_bot)\n",
    "\n",
    "add_bot(\"ipaddr\", \"uname\", \"passwd\")\n",
    "command_bots(\"ls\")"
   ]
  },
  {
   "cell_type": "markdown",
   "metadata": {},
   "source": [
    "### *6. Password Bruteforcer*\n",
    "\n",
    "Generate creds and store successful logins"
   ]
  },
  {
   "cell_type": "code",
   "execution_count": 1,
   "metadata": {},
   "outputs": [
    {
     "name": "stdout",
     "output_type": "stream",
     "text": [
      "C8!e\n"
     ]
    },
    {
     "ename": "KeyboardInterrupt",
     "evalue": "",
     "output_type": "error",
     "traceback": [
      "\u001b[1;31m---------------------------------------------------------------------------\u001b[0m",
      "\u001b[1;31mKeyboardInterrupt\u001b[0m                         Traceback (most recent call last)",
      "\u001b[1;32m~\\AppData\\Local\\Temp/ipykernel_22328/2229253604.py\u001b[0m in \u001b[0;36m<module>\u001b[1;34m\u001b[0m\n\u001b[0;32m     39\u001b[0m                 \u001b[0mexit\u001b[0m\u001b[1;33m\u001b[0m\u001b[1;33m\u001b[0m\u001b[0m\n\u001b[0;32m     40\u001b[0m \u001b[1;33m\u001b[0m\u001b[0m\n\u001b[1;32m---> 41\u001b[1;33m \u001b[0mbrute\u001b[0m\u001b[1;33m(\u001b[0m\u001b[1;33m)\u001b[0m\u001b[1;33m\u001b[0m\u001b[1;33m\u001b[0m\u001b[0m\n\u001b[0m",
      "\u001b[1;32m~\\AppData\\Local\\Temp/ipykernel_22328/2229253604.py\u001b[0m in \u001b[0;36mbrute\u001b[1;34m()\u001b[0m\n\u001b[0;32m     24\u001b[0m             \u001b[0mcounter\u001b[0m \u001b[1;33m+=\u001b[0m \u001b[1;36m1\u001b[0m\u001b[1;33m\u001b[0m\u001b[1;33m\u001b[0m\u001b[0m\n\u001b[0;32m     25\u001b[0m             \u001b[0mi\u001b[0m \u001b[1;33m=\u001b[0m \u001b[0mstr\u001b[0m\u001b[1;33m(\u001b[0m\u001b[0mi\u001b[0m\u001b[1;33m)\u001b[0m\u001b[1;33m\u001b[0m\u001b[1;33m\u001b[0m\u001b[0m\n\u001b[1;32m---> 26\u001b[1;33m             \u001b[0mi\u001b[0m \u001b[1;33m=\u001b[0m \u001b[0mi\u001b[0m\u001b[1;33m.\u001b[0m\u001b[0mreplace\u001b[0m\u001b[1;33m(\u001b[0m\u001b[1;34m\"[\"\u001b[0m\u001b[1;33m,\u001b[0m \u001b[1;34m\"\"\u001b[0m\u001b[1;33m)\u001b[0m\u001b[1;33m\u001b[0m\u001b[1;33m\u001b[0m\u001b[0m\n\u001b[0m\u001b[0;32m     27\u001b[0m             \u001b[0mi\u001b[0m \u001b[1;33m=\u001b[0m \u001b[0mi\u001b[0m\u001b[1;33m.\u001b[0m\u001b[0mreplace\u001b[0m\u001b[1;33m(\u001b[0m\u001b[1;34m\"]\"\u001b[0m\u001b[1;33m,\u001b[0m \u001b[1;34m\"\"\u001b[0m\u001b[1;33m)\u001b[0m\u001b[1;33m\u001b[0m\u001b[1;33m\u001b[0m\u001b[0m\n\u001b[0;32m     28\u001b[0m             \u001b[0mi\u001b[0m \u001b[1;33m=\u001b[0m \u001b[0mi\u001b[0m\u001b[1;33m.\u001b[0m\u001b[0mreplace\u001b[0m\u001b[1;33m(\u001b[0m\u001b[1;34m\"'\"\u001b[0m\u001b[1;33m,\u001b[0m \u001b[1;34m\"\"\u001b[0m\u001b[1;33m)\u001b[0m\u001b[1;33m\u001b[0m\u001b[1;33m\u001b[0m\u001b[0m\n",
      "\u001b[1;31mKeyboardInterrupt\u001b[0m: "
     ]
    }
   ],
   "source": [
    "import itertools, time\n",
    "from time import strftime, localtime\n",
    "import numpy as np\n",
    "import logging\n",
    "\n",
    "alpha = np.loadtxt(\"alphanumeric.txt\", delimiter=\" \", dtype=str)\n",
    "uname = \"mbrogan\"\n",
    "password = \"C8!e\"\n",
    "\n",
    "t_start = strftime(\"%Y-%m-%d_%H-%M-%S\", localtime())\n",
    "diff_start = time.time()\n",
    "logging.basicConfig(filename=\"logs/brute-forcer-{}.log\".format(t_start), level=logging.INFO)\n",
    "logging.info(\"Starting Time: {}\".format(t_start))\n",
    "\n",
    "def brute():\n",
    "    char_len = 1\n",
    "    counter = 1\n",
    "    for char_len in range(25):\n",
    "        attempted_pass = (itertools.product(alpha, repeat=char_len))\n",
    "        logging.info(\"\\n\\nCurrently working on {} len passwords\".format(char_len))\n",
    "        logging.info(\"Tried {} passwords\".format(counter))\n",
    "\n",
    "        for i in attempted_pass:\n",
    "            counter += 1\n",
    "            i = str(i)\n",
    "            i = i.replace(\"[\", \"\")\n",
    "            i = i.replace(\"]\", \"\")\n",
    "            i = i.replace(\"'\", \"\")\n",
    "            i = i.replace(\" \", \"\")\n",
    "            i = i.replace(\",\", \"\")\n",
    "            i = i.replace(\"(\", \"\")\n",
    "            i = i.replace(\")\", \"\")\n",
    "            if i == password:\n",
    "                t_end = strftime(\"%Y-%m-%d_%H-%M-%S\", localtime())\n",
    "                logging.warning(\"\\nPassword found: {}\\n\".format(i))\n",
    "                logging.info(\"\\nEnd Time: {}\".format(t_end))\n",
    "                logging.info(\"Total Time: {}\".format(time.time() - diff_start))\n",
    "                print(i)\n",
    "                exit()\n",
    "\n",
    "brute()            "
   ]
  }
 ],
 "metadata": {
  "interpreter": {
   "hash": "b3ba2566441a7c06988d0923437866b63cedc61552a5af99d1f4fb67d367b25f"
  },
  "kernelspec": {
   "display_name": "Python 3.8.8 64-bit ('base': conda)",
   "name": "python3"
  },
  "language_info": {
   "codemirror_mode": {
    "name": "ipython",
    "version": 3
   },
   "file_extension": ".py",
   "mimetype": "text/x-python",
   "name": "python",
   "nbconvert_exporter": "python",
   "pygments_lexer": "ipython3",
   "version": "3.8.8"
  },
  "orig_nbformat": 4
 },
 "nbformat": 4,
 "nbformat_minor": 2
}
